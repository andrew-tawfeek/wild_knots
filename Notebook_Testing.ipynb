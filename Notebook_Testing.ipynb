{
 "cells": [
  {
   "cell_type": "code",
   "execution_count": 1,
   "metadata": {
    "vscode": {
     "languageId": "sage"
    }
   },
   "outputs": [
    {
     "name": "stdout",
     "output_type": "stream",
     "text": [
      "2 + 2 = 4\n",
      "f(x) = x^2 + 3*x + 2\n",
      "f'(x) = 2*x + 3\n",
      "Solutions to f(x) = 0: [\n",
      "x == -2,\n",
      "x == -1\n",
      "]\n"
     ]
    }
   ],
   "source": [
    "# Welcome to SageMath!\n",
    "# This is a sample cell to get you started\n",
    "\n",
    "# Basic arithmetic\n",
    "print(\"2 + 2 =\", 2 + 2)\n",
    "\n",
    "# Symbolic computation\n",
    "x = var('x')\n",
    "f = x^2 + 3*x + 2\n",
    "print(\"f(x) =\", f)\n",
    "print(\"f'(x) =\", diff(f, x))\n",
    "\n",
    "# Solve equations\n",
    "solutions = solve(f == 0, x)\n",
    "print(\"Solutions to f(x) = 0:\", solutions)"
   ]
  }
 ],
 "metadata": {
  "kernelspec": {
   "display_name": "SageMath 10.3",
   "language": "sage",
   "name": "SageMath-10.3"
  },
  "language_info": {
   "codemirror_mode": {
    "name": "ipython",
    "version": 3
   },
   "file_extension": ".py",
   "mimetype": "text/x-python",
   "name": "python",
   "nbconvert_exporter": "python",
   "pygments_lexer": "ipython3",
   "version": "3.11.8"
  }
 },
 "nbformat": 4,
 "nbformat_minor": 4
}
