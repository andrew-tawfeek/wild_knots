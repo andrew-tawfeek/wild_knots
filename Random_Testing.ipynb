{
 "cells": [
  {
   "cell_type": "code",
   "execution_count": 123,
   "id": "fd51537e",
   "metadata": {
    "vscode": {
     "languageId": "sage"
    }
   },
   "outputs": [],
   "source": [
    "load(\"wild_mosaics.py\")"
   ]
  },
  {
   "cell_type": "code",
   "execution_count": 124,
   "id": "e12f1c06",
   "metadata": {
    "vscode": {
     "languageId": "sage"
    }
   },
   "outputs": [
    {
     "data": {
      "image/png": "[encoded data removed]",
      "text/plain": [
       "Graphics Array of size 2 x 2"
      ]
     },
     "metadata": {},
     "output_type": "display_data"
    }
   ],
   "source": [
    "M = matrix([[2,1],[0,0]]);\n",
    "W = Mosaic(M);\n",
    "W.show(2)"
   ]
  },
  {
   "cell_type": "code",
   "execution_count": 125,
   "id": "97e4cf1e",
   "metadata": {
    "vscode": {
     "languageId": "sage"
    }
   },
   "outputs": [
    {
     "data": {
      "text/plain": [
       "[3]"
      ]
     },
     "execution_count": 125,
     "metadata": {},
     "output_type": "execute_result"
    }
   ],
   "source": [
    "W.potential_tiles(1,0)"
   ]
  },
  {
   "cell_type": "code",
   "execution_count": 145,
   "id": "8909b743",
   "metadata": {
    "vscode": {
     "languageId": "sage"
    }
   },
   "outputs": [],
   "source": [
    "def random_mosaic(dimension):\n",
    "    template = matrix(ZZ,dimension,dimension)\n",
    "    \n",
    "    # This walks through the matrix, which is the issue...\n",
    "    for i in range(dimension):\n",
    "        for j in range(dimension):\n",
    "            template[i,j] = choice(Mosaic(template).potential_tiles(i,j))\n",
    "    return Mosaic(template)"
   ]
  },
  {
   "cell_type": "code",
   "execution_count": 146,
   "id": "e7fba464",
   "metadata": {
    "vscode": {
     "languageId": "sage"
    }
   },
   "outputs": [
    {
     "data": {
      "image/png": "[encoded data removed]",
      "text/plain": [
       "Graphics Array of size 4 x 4"
      ]
     },
     "metadata": {},
     "output_type": "display_data"
    }
   ],
   "source": [
    "M = random_mosaic(4); M.show(4)"
   ]
  },
  {
   "cell_type": "code",
   "execution_count": 143,
   "id": "f1a6ffc6",
   "metadata": {
    "vscode": {
     "languageId": "sage"
    }
   },
   "outputs": [
    {
     "data": {
      "text/plain": [
       "[4]"
      ]
     },
     "execution_count": 143,
     "metadata": {},
     "output_type": "execute_result"
    }
   ],
   "source": [
    "M.potential_tiles(3,3)"
   ]
  },
  {
   "cell_type": "code",
   "execution_count": null,
   "id": "4b816dcd",
   "metadata": {
    "vscode": {
     "languageId": "sage"
    }
   },
   "outputs": [
    {
     "data": {
      "image/png": "[encoded data removed]",
      "text/plain": [
       "Graphics Array of size 3 x 3"
      ]
     },
     "metadata": {},
     "output_type": "display_data"
    }
   ],
   "source": [
    "M = matrix(ZZ,3,3); W = Mosaic(M); W.show()"
   ]
  },
  {
   "cell_type": "code",
   "execution_count": 151,
   "id": "cdf2bb30",
   "metadata": {
    "vscode": {
     "languageId": "sage"
    }
   },
   "outputs": [
    {
     "data": {
      "text/plain": [
       "[0, 2]"
      ]
     },
     "execution_count": 151,
     "metadata": {},
     "output_type": "execute_result"
    }
   ],
   "source": [
    "W.potential_tiles(0,0)"
   ]
  },
  {
   "cell_type": "code",
   "execution_count": null,
   "id": "77b25f64",
   "metadata": {
    "vscode": {
     "languageId": "sage"
    }
   },
   "outputs": [
    {
     "data": {
      "image/png": "[encoded data removed]",
      "text/plain": [
       "Graphics Array of size 3 x 3"
      ]
     },
     "metadata": {},
     "output_type": "display_data"
    }
   ],
   "source": [
    "M[0,0] = 2; W = Mosaic(M); W.show()"
   ]
  },
  {
   "cell_type": "code",
   "execution_count": 153,
   "id": "a9a1b195",
   "metadata": {
    "vscode": {
     "languageId": "sage"
    }
   },
   "outputs": [
    {
     "data": {
      "text/plain": [
       "[1, 5]"
      ]
     },
     "execution_count": 153,
     "metadata": {},
     "output_type": "execute_result"
    }
   ],
   "source": [
    "W.potential_tiles(0,1)"
   ]
  },
  {
   "cell_type": "code",
   "execution_count": null,
   "id": "b220799e",
   "metadata": {
    "vscode": {
     "languageId": "sage"
    }
   },
   "outputs": [
    {
     "data": {
      "image/png": "[encoded data removed]",
      "text/plain": [
       "Graphics Array of size 3 x 3"
      ]
     },
     "metadata": {},
     "output_type": "display_data"
    }
   ],
   "source": [
    "M[0,1] = 5; W = Mosaic(M); W.show()"
   ]
  },
  {
   "cell_type": "code",
   "execution_count": 157,
   "id": "cca5b94e",
   "metadata": {
    "vscode": {
     "languageId": "sage"
    }
   },
   "outputs": [
    {
     "data": {
      "image/png": "[encoded data removed]",
      "text/plain": [
       "Graphics Array of size 3 x 3"
      ]
     },
     "metadata": {},
     "output_type": "display_data"
    }
   ],
   "source": [
    "M[0,2] = 1; W = Mosaic(M); W.show(2)"
   ]
  },
  {
   "cell_type": "code",
   "execution_count": 158,
   "id": "8ef5701c",
   "metadata": {
    "vscode": {
     "languageId": "sage"
    }
   },
   "outputs": [
    {
     "data": {
      "text/plain": [
       "[3, 6]"
      ]
     },
     "execution_count": 158,
     "metadata": {},
     "output_type": "execute_result"
    }
   ],
   "source": [
    "W.potential_tiles(1,0)"
   ]
  },
  {
   "cell_type": "code",
   "execution_count": null,
   "id": "7c733877",
   "metadata": {
    "vscode": {
     "languageId": "sage"
    }
   },
   "outputs": [],
   "source": []
  },
  {
   "cell_type": "code",
   "execution_count": null,
   "id": "9e26c2a1",
   "metadata": {
    "vscode": {
     "languageId": "sage"
    }
   },
   "outputs": [],
   "source": []
  }
 ],
 "metadata": {
  "kernelspec": {
   "display_name": "SageMath 10.3",
   "language": "sage",
   "name": "SageMath-10.3"
  },
  "language_info": {
   "codemirror_mode": {
    "name": "ipython",
    "version": 3
   },
   "file_extension": ".py",
   "mimetype": "text/x-python",
   "name": "python",
   "nbconvert_exporter": "python",
   "pygments_lexer": "ipython3",
   "version": "3.11.8"
  }
 },
 "nbformat": 4,
 "nbformat_minor": 5
}
